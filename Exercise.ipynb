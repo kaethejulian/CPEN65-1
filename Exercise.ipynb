{
  "nbformat": 4,
  "nbformat_minor": 0,
  "metadata": {
    "colab": {
      "provenance": [],
      "authorship_tag": "ABX9TyMwaOeZjb2ByUaq0BFtNe81",
      "include_colab_link": true
    },
    "kernelspec": {
      "name": "python3",
      "display_name": "Python 3"
    },
    "language_info": {
      "name": "python"
    }
  },
  "cells": [
    {
      "cell_type": "markdown",
      "metadata": {
        "id": "view-in-github",
        "colab_type": "text"
      },
      "source": [
        "<a href=\"https://colab.research.google.com/github/kaethejulian/CPEN65-1/blob/main/Exercise.ipynb\" target=\"_parent\"><img src=\"https://colab.research.google.com/assets/colab-badge.svg\" alt=\"Open In Colab\"/></a>"
      ]
    },
    {
      "cell_type": "code",
      "execution_count": null,
      "metadata": {
        "colab": {
          "base_uri": "https://localhost:8080/"
        },
        "id": "G_4tiXidAah2",
        "outputId": "751a41a5-da4c-4ae1-e52b-1e50115d3aa9"
      },
      "outputs": [
        {
          "output_type": "stream",
          "name": "stdout",
          "text": [
            "['n', 'a', 'i', 'l', 'u', 'J', '.', 'A', 'y', 'o', 'J', 'e', 'h', 't', 'e', 'a', 'K', '.', 'a', 'M']\n"
          ]
        }
      ],
      "source": [
        "Name = [\"M\",\"a\",\".\",\"K\",\"a\",\"e\",\"t\",\"h\",\"e\",\"J\",\"o\",\"y\",\"J\",\"u\",\"l\",\"i\",\"a\",\"n\"]\n",
        "Name.reverse()\n",
        "print(Name)"
      ]
    }
  ]
}