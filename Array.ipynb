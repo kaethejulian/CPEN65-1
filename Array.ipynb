{
  "nbformat": 4,
  "nbformat_minor": 0,
  "metadata": {
    "colab": {
      "provenance": [],
      "authorship_tag": "ABX9TyPjQxPeo2YEAIoL+cHNTzaJ",
      "include_colab_link": true
    },
    "kernelspec": {
      "name": "python3",
      "display_name": "Python 3"
    },
    "language_info": {
      "name": "python"
    }
  },
  "cells": [
    {
      "cell_type": "markdown",
      "metadata": {
        "id": "view-in-github",
        "colab_type": "text"
      },
      "source": [
        "<a href=\"https://colab.research.google.com/github/kaethejulian/CPEN65-1/blob/main/Array.ipynb\" target=\"_parent\"><img src=\"https://colab.research.google.com/assets/colab-badge.svg\" alt=\"Open In Colab\"/></a>"
      ]
    },
    {
      "cell_type": "code",
      "execution_count": 4,
      "metadata": {
        "colab": {
          "base_uri": "https://localhost:8080/"
        },
        "id": "Ac6tEHUW2Oqq",
        "outputId": "a321697a-059e-4000-95af-6d8903bc40bd"
      },
      "outputs": [
        {
          "output_type": "stream",
          "name": "stdout",
          "text": [
            "Array[0]= cat\n",
            "Array[1]= dog\n",
            "Array[2]= fish\n"
          ]
        }
      ],
      "source": [
        "#Accessing the elements in Array\n",
        "animals = [\"cat\",\"dog\",\"fish\"]\n",
        "x=animals [0]\n",
        "y=animals [1]\n",
        "z=animals [2]\n",
        "print(\"Array[0]=\",x)\n",
        "print(\"Array[1]=\",y)\n",
        "print(\"Array[2]=\",z)"
      ]
    },
    {
      "cell_type": "code",
      "source": [
        "#Modifying the elements in Array\n",
        "animals = [\"cat\",\"dog\",\"fish\"]\n",
        "animals[0] = \"monkey\"\n",
        "x=animals[0]\n",
        "print(\"Array [0]\",x)\n",
        "print(animals)"
      ],
      "metadata": {
        "colab": {
          "base_uri": "https://localhost:8080/"
        },
        "id": "TPKqAZI73oet",
        "outputId": "8a75133b-5e64-4ffa-8434-6fdc05d0adb2"
      },
      "execution_count": 6,
      "outputs": [
        {
          "output_type": "stream",
          "name": "stdout",
          "text": [
            "Array [0] monkey\n",
            "['monkey', 'dog', 'fish']\n"
          ]
        }
      ]
    },
    {
      "cell_type": "code",
      "source": [
        "#Length of the Array\n",
        "animals = [\"monkey\",\"dog\",\"fish\",\"cat\",\"birds\"]\n",
        "v=len(animals) #len or length tells thee number of elements inside an array\n",
        "print(v)"
      ],
      "metadata": {
        "colab": {
          "base_uri": "https://localhost:8080/"
        },
        "id": "ulmw4qtZ4OYb",
        "outputId": "762d3aad-a258-4911-f079-cb6a6ec54888"
      },
      "execution_count": 9,
      "outputs": [
        {
          "output_type": "stream",
          "name": "stdout",
          "text": [
            "5\n"
          ]
        }
      ]
    },
    {
      "cell_type": "code",
      "source": [
        "#Looping elements in Array\n",
        "animals = [\"monkey\",\"dog\",\"fish\",\"cat\",\"birds\"]\n",
        "\n",
        "for x in animals:\n",
        "  print(x)\n",
        "  "
      ],
      "metadata": {
        "colab": {
          "base_uri": "https://localhost:8080/"
        },
        "id": "fR1loWK-4qq2",
        "outputId": "062239f1-83f0-4005-a432-3896707a1b55"
      },
      "execution_count": 19,
      "outputs": [
        {
          "output_type": "stream",
          "name": "stdout",
          "text": [
            "monkey\n",
            "dog\n",
            "fish\n",
            "cat\n",
            "birds\n"
          ]
        }
      ]
    },
    {
      "cell_type": "code",
      "source": [
        "animals = [\"monkey\",\"dog\",\"fish\",\"cat\",\"birds\"]\n",
        "for index,val in enumerate(animals):\n",
        "  print(index,val)"
      ],
      "metadata": {
        "colab": {
          "base_uri": "https://localhost:8080/"
        },
        "id": "IjBbr96a65hk",
        "outputId": "9811d0ba-d78e-49d7-ef05-13f234f347cb"
      },
      "execution_count": 20,
      "outputs": [
        {
          "output_type": "stream",
          "name": "stdout",
          "text": [
            "0 monkey\n",
            "1 dog\n",
            "2 fish\n",
            "3 cat\n",
            "4 birds\n"
          ]
        }
      ]
    },
    {
      "cell_type": "code",
      "source": [
        "#Adding/Appending elements in array\n",
        "animals = [\"monkey\",\"dog\",\"fish\",\"cat\",\"birds\"]\n",
        "animals.append(\"lion\") #added another element in the last place\n",
        "print(animals)"
      ],
      "metadata": {
        "colab": {
          "base_uri": "https://localhost:8080/"
        },
        "id": "OLrB2cQm7Vlt",
        "outputId": "5c23e74e-518c-4910-e3a7-cc6a533c9875"
      },
      "execution_count": 22,
      "outputs": [
        {
          "output_type": "stream",
          "name": "stdout",
          "text": [
            "['monkey', 'dog', 'fish', 'cat', 'birds', 'lion']\n"
          ]
        }
      ]
    },
    {
      "cell_type": "code",
      "source": [
        "numbers=[1,2,3,4,5,6,7,8,9,10] #012345678...\n",
        "numbers.insert(1,11) #1 is the location inside the array, 11 is the new input that you'll be inputting\n",
        "print(numbers)"
      ],
      "metadata": {
        "colab": {
          "base_uri": "https://localhost:8080/"
        },
        "id": "yKs4WIY173mF",
        "outputId": "e17169a1-4c09-4421-a5e9-12ae528edae0"
      },
      "execution_count": 25,
      "outputs": [
        {
          "output_type": "stream",
          "name": "stdout",
          "text": [
            "[1, 11, 2, 3, 4, 5, 6, 7, 8, 9, 10]\n"
          ]
        }
      ]
    },
    {
      "cell_type": "code",
      "source": [
        "#Removing an Element in Array\n",
        "animals = [\"monkey\",\"dog\",\"fish\",\"cat\",\"birds\"]\n",
        "animals.pop(1) #1 is the index number in an array\n",
        "print(animals)"
      ],
      "metadata": {
        "colab": {
          "base_uri": "https://localhost:8080/"
        },
        "id": "wvNzrLcX801f",
        "outputId": "48ac82f8-0446-4ff8-da20-2f6caa1dbc15"
      },
      "execution_count": 26,
      "outputs": [
        {
          "output_type": "stream",
          "name": "stdout",
          "text": [
            "['monkey', 'fish', 'cat', 'birds']\n"
          ]
        }
      ]
    },
    {
      "cell_type": "code",
      "source": [
        "numbers=[1,2,3,4,5,6,7,8,9,10]\n",
        "numbers.insert(1,11)\n",
        "numbers.pop(2)\n",
        "print(numbers)"
      ],
      "metadata": {
        "colab": {
          "base_uri": "https://localhost:8080/"
        },
        "id": "cK94BFXW9VMG",
        "outputId": "c8218e71-f113-46e9-d2f8-b388b2af8b11"
      },
      "execution_count": 28,
      "outputs": [
        {
          "output_type": "stream",
          "name": "stdout",
          "text": [
            "[1, 11, 3, 4, 5, 6, 7, 8, 9, 10]\n"
          ]
        }
      ]
    }
  ]
}