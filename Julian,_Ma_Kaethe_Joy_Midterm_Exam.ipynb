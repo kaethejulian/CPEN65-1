{
  "nbformat": 4,
  "nbformat_minor": 0,
  "metadata": {
    "colab": {
      "provenance": [],
      "authorship_tag": "ABX9TyO74utp0ExgqbAclAJ95G/8",
      "include_colab_link": true
    },
    "kernelspec": {
      "name": "python3",
      "display_name": "Python 3"
    },
    "language_info": {
      "name": "python"
    }
  },
  "cells": [
    {
      "cell_type": "markdown",
      "metadata": {
        "id": "view-in-github",
        "colab_type": "text"
      },
      "source": [
        "<a href=\"https://colab.research.google.com/github/kaethejulian/CPEN65-1/blob/main/Julian%2C_Ma_Kaethe_Joy_Midterm_Exam.ipynb\" target=\"_parent\"><img src=\"https://colab.research.google.com/assets/colab-badge.svg\" alt=\"Open In Colab\"/></a>"
      ]
    },
    {
      "cell_type": "code",
      "execution_count": 1,
      "metadata": {
        "colab": {
          "base_uri": "https://localhost:8080/"
        },
        "id": "V7EFSVqqEYqc",
        "outputId": "22a06194-1f15-468a-d514-8e00767cc508"
      },
      "outputs": [
        {
          "output_type": "stream",
          "name": "stdout",
          "text": [
            "array('i', [1, 2, 3, 4, 5, 6, 7, 8, 9, 10])\n",
            "Access All items individually:\n",
            "1\n",
            "2\n",
            "3\n",
            "4\n",
            "5\n",
            "6\n",
            "7\n",
            "8\n",
            "9\n",
            "10\n",
            "The sum of array is:  55\n"
          ]
        }
      ],
      "source": [
        "#Write a Python program to create an array of 10 integers and display the array items. Access individual elements through indexes and compute for the sum.\n",
        "from array import *\n",
        "arr = array('i', [1,2,3,4,5,6,7,8,9,10])\n",
        "print(arr)\n",
        "\n",
        "print(\"Access All items individually:\")\n",
        "print(arr[0])\n",
        "print(arr[1])\n",
        "print(arr[2])\n",
        "print(arr[3])\n",
        "print(arr[4])\n",
        "print(arr[5])\n",
        "print(arr[6])\n",
        "print(arr[7])\n",
        "print(arr[8])\n",
        "print(arr[9])\n",
        "\n",
        "sum_arr = sum(arr)\n",
        "print(\"The sum of array is: \", sum_arr)"
      ]
    },
    {
      "cell_type": "code",
      "source": [
        "#Write a Python program to append a new item to the end of the array. Original array: numbers = [1,2,3,4,5,6,7,8,9,10]\n",
        "\n",
        "from array import *\n",
        "arr = array('i', [1,2,3,4,5,6,7,8,9,10])\n",
        "print(\"Original array: \" + str(arr))\n",
        "print(\"Append 11 at the end of the array, therefore:\")\n",
        "arr.append(11)\n",
        "print(\"New Array: \" + str(arr))\n"
      ],
      "metadata": {
        "colab": {
          "base_uri": "https://localhost:8080/"
        },
        "id": "k8XeKKB8EutF",
        "outputId": "05f4ac44-cb90-40d2-a104-909f0d7cf6fd"
      },
      "execution_count": 2,
      "outputs": [
        {
          "output_type": "stream",
          "name": "stdout",
          "text": [
            "Original array: array('i', [1, 2, 3, 4, 5, 6, 7, 8, 9, 10])\n",
            "Append 11 at the end of the array, therefore:\n",
            "New Array: array('i', [1, 2, 3, 4, 5, 6, 7, 8, 9, 10, 11])\n"
          ]
        }
      ]
    },
    {
      "cell_type": "code",
      "source": [
        "#Write a Python program to insert a new item before the last element in an existing array. Original array: numbers = [1,2,3,4,5,6,7,8,9,10]\n",
        "\n",
        "from array import *\n",
        "arr = array('i', [1,2,3,4,5,6,7,8,9,10])\n",
        "print(\"Original array: \" + str(arr))\n",
        "print(\"Insert a new item 6 before the last element 10:\")\n",
        "arr.insert(9,6)\n",
        "print(\"New Array: \" + str(arr))\n"
      ],
      "metadata": {
        "colab": {
          "base_uri": "https://localhost:8080/"
        },
        "id": "5JNqOgklE6B_",
        "outputId": "1ec2f181-4b55-438c-8f01-91dee6d7c088"
      },
      "execution_count": 3,
      "outputs": [
        {
          "output_type": "stream",
          "name": "stdout",
          "text": [
            "Original array: array('i', [1, 2, 3, 4, 5, 6, 7, 8, 9, 10])\n",
            "Insert a new item 6 before the last element 10:\n",
            "New Array: array('i', [1, 2, 3, 4, 5, 6, 7, 8, 9, 6, 10])\n"
          ]
        }
      ]
    },
    {
      "cell_type": "code",
      "source": [
        "#write a Python program to reverse the order of the items in the array. Original array: numbers=[1,2,3,4,5]\n",
        "\n",
        "from array import *\n",
        "arr = array('i', [1,2,3,4,5])\n",
        "print(\"Original array: \" + str(arr))\n",
        "print(\"Reverse the order of the array:\")\n",
        "arr.reverse()\n",
        "print(\"New array: \" +str(arr))"
      ],
      "metadata": {
        "colab": {
          "base_uri": "https://localhost:8080/"
        },
        "id": "eolhu7YmFJ82",
        "outputId": "5308b68e-9d70-496f-ead4-a53aa9466545"
      },
      "execution_count": 4,
      "outputs": [
        {
          "output_type": "stream",
          "name": "stdout",
          "text": [
            "Original array: array('i', [1, 2, 3, 4, 5])\n",
            "Reverse the order of the array:\n",
            "New array: array('i', [5, 4, 3, 2, 1])\n"
          ]
        }
      ]
    },
    {
      "cell_type": "code",
      "source": [
        "#Let A be an array of size n ≥ 2 containing integers from 1 to n−1, inclusive, with exactly one repeated. Create an algorithm for finding the integer in A that is repeated\n",
        "\n",
        "arr =array('i', [2, 4, 6, 8, 8])\n",
        "arr2=[]\n",
        "    \n",
        "for i in arr:\n",
        "  if i not in arr2:\n",
        "    arr2.append(i)\n",
        "  else:\n",
        "    print(f\"Duplicate elements in given array: {i}\")\n",
        "\n",
        "\n"
      ],
      "metadata": {
        "colab": {
          "base_uri": "https://localhost:8080/"
        },
        "id": "lPZM3uKHF3vN",
        "outputId": "cb07dae6-4a74-4cf3-e469-72e348f4a6af"
      },
      "execution_count": 34,
      "outputs": [
        {
          "output_type": "stream",
          "name": "stdout",
          "text": [
            "Duplicate elements in given array: 8\n"
          ]
        }
      ]
    }
  ]
}