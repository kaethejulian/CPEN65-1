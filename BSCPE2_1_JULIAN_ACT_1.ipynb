{
  "nbformat": 4,
  "nbformat_minor": 0,
  "metadata": {
    "colab": {
      "provenance": [],
      "authorship_tag": "ABX9TyM8CFLRStooRyrcBkC6Y5Yl",
      "include_colab_link": true
    },
    "kernelspec": {
      "name": "python3",
      "display_name": "Python 3"
    },
    "language_info": {
      "name": "python"
    }
  },
  "cells": [
    {
      "cell_type": "markdown",
      "metadata": {
        "id": "view-in-github",
        "colab_type": "text"
      },
      "source": [
        "<a href=\"https://colab.research.google.com/github/kaethejulian/CPEN65-1/blob/main/BSCPE2_1_JULIAN_ACT_1.ipynb\" target=\"_parent\"><img src=\"https://colab.research.google.com/assets/colab-badge.svg\" alt=\"Open In Colab\"/></a>"
      ]
    },
    {
      "cell_type": "code",
      "execution_count": 25,
      "metadata": {
        "colab": {
          "base_uri": "https://localhost:8080/"
        },
        "id": "vQqfqyD3sSPI",
        "outputId": "49b5eade-ab72-4541-a706-add72f6c3601"
      },
      "outputs": [
        {
          "output_type": "stream",
          "name": "stdout",
          "text": [
            "Enter the value of circle:20\n",
            "Diameter or radius? RADIUS\n",
            "314.16\n"
          ]
        }
      ],
      "source": [
        "import math\n",
        "value =float(input(\"Enter the value of circle:\"))\n",
        "choose = str(input(\"Diameter or radius? \"))\n",
        "class Circle:\n",
        "  def get_area(self):\n",
        "    if choose == \"radius\":\n",
        "      radius = round(math.pi * value**2,2)\n",
        "      print(radius)\n",
        "    else:\n",
        "      Diameter = round(1/4 * math.pi *value**2,2)\n",
        "      print(Diameter)\n",
        "point = Circle\n",
        "point.get_area(0)"
      ]
    }
  ]
}